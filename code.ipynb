{
  "nbformat": 4,
  "nbformat_minor": 0,
  "metadata": {
    "colab": {
      "provenance": [],
      "toc_visible": true
    },
    "kernelspec": {
      "name": "python3",
      "display_name": "Python 3"
    },
    "language_info": {
      "name": "python"
    }
  },
  "cells": [
    {
      "cell_type": "code",
      "source": [
        " import nltk\n",
        " nltk.download('punkt')\n",
        " nltk.download('stopwords')"
      ],
      "metadata": {
        "colab": {
          "base_uri": "https://localhost:8080/"
        },
        "id": "S1Gl-L1SO4Sa",
        "outputId": "2bcfb64a-d0ce-4d6d-dd9f-ab0c33215ca5"
      },
      "execution_count": null,
      "outputs": [
        {
          "output_type": "stream",
          "name": "stderr",
          "text": [
            "[nltk_data] Downloading package punkt to /root/nltk_data...\n",
            "[nltk_data]   Unzipping tokenizers/punkt.zip.\n",
            "[nltk_data] Downloading package stopwords to /root/nltk_data...\n",
            "[nltk_data]   Unzipping corpora/stopwords.zip.\n"
          ]
        },
        {
          "output_type": "execute_result",
          "data": {
            "text/plain": [
              "True"
            ]
          },
          "metadata": {},
          "execution_count": 1
        }
      ]
    },
    {
      "cell_type": "code",
      "execution_count": null,
      "metadata": {
        "colab": {
          "base_uri": "https://localhost:8080/"
        },
        "id": "RixRSSJuOMbu",
        "outputId": "7e531980-6586-4ba5-ba06-454c3d6a7df4"
      },
      "outputs": [
        {
          "output_type": "stream",
          "name": "stdout",
          "text": [
            "Enter a query: inflation\n",
            "Summary based on the retrieved documents:\n",
            "Inflation's Impact on Trade and Investments: This document explores the intricate relationship between inflation and its influence on international trade and investments. It delves into the effects of inflation on exchange rates, trade policies, and investment decisions.\n"
          ]
        }
      ],
      "source": [
        "import nltk\n",
        "from nltk.corpus import stopwords\n",
        "from nltk.tokenize import word_tokenize, sent_tokenize\n",
        "from heapq import nlargest\n",
        "\n",
        "# Redefined document collection with descriptions on world economics\n",
        "document_collection = {\n",
        "    1: \"Global Economic Outlook (2023): This document provides a comprehensive overview of the global economic outlook for the year 2023, discussing economic trends, growth prospects, and potential challenges that the world economy is expected to face in the upcoming year.\",\n",
        "    2: \"Inflation's Impact on Trade and Investments: This document explores the intricate relationship between inflation and its influence on international trade and investments. It delves into the effects of inflation on exchange rates, trade policies, and investment decisions.\",\n",
        "    3: \"Emerging Market Economies in Global Finance: Focusing on the significance of emerging market economies, this document examines their role in the global financial system. It analyzes their growth, contributions, and the impact they have on the interconnected world of finance.\",\n",
        "    4: \"Central Banks and Economic Stability: This document emphasizes the critical role played by central banks in stabilizing world economies. It discusses central banks' monetary policies, their influence on interest rates, and the tools they employ to ensure economic stability.\",\n",
        "    5: \"Trade Wars' Disruption of Supply Chains: Exploring the ramifications of trade wars on a global scale, this document investigates how trade conflicts disrupt and alter global supply chains. It scrutinizes the evolving landscape of trade dynamics and its consequences on the world economy.\",\n",
        "    6: \"Sustainable Development and Green Finance: Focusing on the increasing importance of sustainable development, this document delves into the concepts of green finance and its relevance in the global economy. It spotlights environmentally responsible financial practices.\",\n",
        "    7: \"Lessons from the 2008 Global Economic Crisis: This document revisits the 2008 global economic crisis, extracting valuable lessons learned from that financial meltdown. It places emphasis on the regulatory changes, risk management strategies, and measures put in place to prevent future crises.\",\n",
        "    8: \"Cryptocurrencies' Impact on Finance: The document explores the disruptive influence of cryptocurrencies in the financial sector. It delves into the challenges they pose to traditional financial systems and the potential transformations they bring to the financial landscape.\",\n",
        "    9: \"Belt and Road Initiative and Global Infrastructure: Shining a spotlight on China's Belt and Road Initiative, this document elucidates this vast global infrastructure development project. It scrutinizes its implications for world economics and its role in shaping global geopolitics.\",\n",
        "    10: \"The Eurozone Crisis and the Future of the EU: This document delves.\" }\n",
        "\n",
        "\n",
        "\n",
        "# Build an inverted index for words in the documents\n",
        "inverted_index = {}\n",
        "for doc_id, doc_text in document_collection.items():\n",
        "    for word in word_tokenize(doc_text.lower()):\n",
        "        if word not in inverted_index:\n",
        "            inverted_index[word] = []\n",
        "        inverted_index[word].append(doc_id)\n",
        "\n",
        "def retrieve_documents(query):\n",
        "    relevant_documents = set()\n",
        "\n",
        "    # IR technique: Use the inverted index to find relevant documents\n",
        "    for term in query.lower().split():\n",
        "        if term in inverted_index:\n",
        "            relevant_documents.update(inverted_index[term])\n",
        "\n",
        "    return [document_collection[doc_id] for doc_id in relevant_documents]\n",
        "\n",
        "def summarize(text, n):\n",
        "    stop_words = set(stopwords.words('english'))\n",
        "    word_freq = {}\n",
        "    for word in word_tokenize(text.lower()):\n",
        "        if word not in stop_words:\n",
        "            if word not in word_freq:\n",
        "                word_freq[word] = 1\n",
        "            else:\n",
        "                word_freq[word] += 1\n",
        "\n",
        "    max_freq = max(word_freq.values())\n",
        "    for word in word_freq:\n",
        "        word_freq[word] = (word_freq[word] / max_freq)\n",
        "\n",
        "    sent_list = sent_tokenize(text)\n",
        "    sent_score = {}\n",
        "    for sent in sent_list:\n",
        "        for word in word_tokenize(sent.lower()):\n",
        "            if word in word_freq:\n",
        "                if len(sent.split(' ')) < 30:\n",
        "                    if sent not in sent_score:\n",
        "                        sent_score[sent] = word_freq[word]\n",
        "                    else:\n",
        "                        sent_score[sent] += word_freq[word]\n",
        "\n",
        "    summary_sents = nlargest(n, sent_score, key=sent_score.get)\n",
        "    summary = ' '.join(summary_sents)\n",
        "    return summary\n",
        "\n",
        "query = input('Enter a query: ')\n",
        "retrieved_docs = retrieve_documents(query)\n",
        "\n",
        "if retrieved_docs:\n",
        "    # Summarize the retrieved documents\n",
        "    summarized_text = \" \".join(retrieved_docs)\n",
        "    summary = summarize(summarized_text, 3)\n",
        "    print(\"Summary based on the retrieved documents:\")\n",
        "    print(summary)\n",
        "else:\n",
        "    print(\"No relevant documents found for the query.\")\n"
      ]
    }
  ]
}